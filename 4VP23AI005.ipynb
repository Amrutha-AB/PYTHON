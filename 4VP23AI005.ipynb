{
 "cells": [
  {
   "cell_type": "markdown",
   "id": "144edf19",
   "metadata": {},
   "source": [
    "## LAB 1"
   ]
  },
  {
   "cell_type": "markdown",
   "id": "6faa481a",
   "metadata": {},
   "source": [
    "## 1) Develop a python program to read n digit integer number and separate the integer number and display each digit"
   ]
  },
  {
   "cell_type": "code",
   "execution_count": 5,
   "id": "1605af7d",
   "metadata": {},
   "outputs": [
    {
     "name": "stdout",
     "output_type": "stream",
     "text": [
      "enter the number of digit:3\n",
      "enter a3-digit interger:123\n",
      "1\n",
      "2\n",
      "3\n"
     ]
    }
   ],
   "source": [
    "n=int(input(\"enter the number of digit:\"))\n",
    "if n>0:\n",
    "    number=int(input(f\"enter a{n}-digit interger:\"))\n",
    "    if number>=10**(n-1)and number<10**n:\n",
    "        for i in range(n):\n",
    "            digit=number//(10**(n-1))\n",
    "            print(digit)\n",
    "            number%=10**(n-1)\n",
    "            n-=1\n",
    "    else:\n",
    "            print(f\"please enter a{n}-digit integer\")\n",
    "else:\n",
    "    printf(f\"please enter a valid number of digits(grester thsn 0)\")\n",
    "    "
   ]
  },
  {
   "cell_type": "code",
   "execution_count": 12,
   "id": "5061856f",
   "metadata": {},
   "outputs": [
    {
     "name": "stdout",
     "output_type": "stream",
     "text": [
      "enter the number of digit:3\n",
      "enter a3-digit interger:321\n",
      "3\n",
      "2\n",
      "1\n"
     ]
    }
   ],
   "source": [
    "n=int(input(\"enter the number of digit:\"))\n",
    "if n>0:\n",
    "    number=int(input(f\"enter a{n}-digit interger:\"))\n",
    "    if len(str(number))==n:\n",
    "        for i in range(n):\n",
    "            digit=number//(10**(n-1))\n",
    "            print(digit)\n",
    "            number%=10**(n-1)\n",
    "            n-=1\n",
    "    else:\n",
    "            print(f\"please enter a{n}-digit integer\")\n",
    "else:\n",
    "    printf(f\"please enter a valid number of digits(grester thsn 0)\")\n",
    "    "
   ]
  },
  {
   "cell_type": "markdown",
   "id": "cd87d98b",
   "metadata": {},
   "source": [
    "## LAB-2"
   ]
  },
  {
   "cell_type": "markdown",
   "id": "7c92aaa5",
   "metadata": {},
   "source": [
    "## 2) Develop a Python program to accept 4 number and display them in sorted order using a minimum number of if else statements"
   ]
  },
  {
   "cell_type": "code",
   "execution_count": 11,
   "id": "95947f2f",
   "metadata": {},
   "outputs": [
    {
     "name": "stdout",
     "output_type": "stream",
     "text": [
      "enter the first number:5\n",
      "enter the second number:6\n",
      "enter the third number:3\n",
      "enter the fourth number:4\n",
      "The sorted number are: 3 4 5 6\n"
     ]
    }
   ],
   "source": [
    "a=int(input(\"enter the first number:\"))\n",
    "b=int(input(\"enter the second number:\"))\n",
    "c=int(input(\"enter the third number:\"))\n",
    "d=int(input(\"enter the fourth number:\"))\n",
    "if a>b:a,b=b,a\n",
    "if c>d:c,d=b,c\n",
    "if a>c:a,c=c,a\n",
    "if b>d:b,d=d,b\n",
    "if b>c:b,c=c,b\n",
    "print(\"The sorted number are:\",a,b,c,d)"
   ]
  },
  {
   "cell_type": "code",
   "execution_count": null,
   "id": "1031efc4",
   "metadata": {},
   "outputs": [],
   "source": []
  }
 ],
 "metadata": {
  "kernelspec": {
   "display_name": "Python 3 (ipykernel)",
   "language": "python",
   "name": "python3"
  },
  "language_info": {
   "codemirror_mode": {
    "name": "ipython",
    "version": 3
   },
   "file_extension": ".py",
   "mimetype": "text/x-python",
   "name": "python",
   "nbconvert_exporter": "python",
   "pygments_lexer": "ipython3",
   "version": "3.10.9"
  }
 },
 "nbformat": 4,
 "nbformat_minor": 5
}
