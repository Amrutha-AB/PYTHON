{
 "cells": [
  {
   "cell_type": "markdown",
   "id": "144edf19",
   "metadata": {},
   "source": [
    "## LAB 1"
   ]
  },
  {
   "cell_type": "code",
   "execution_count": null,
   "id": "7ed5cb85",
   "metadata": {},
   "outputs": [],
   "source": []
  },
  {
   "cell_type": "markdown",
   "id": "6faa481a",
   "metadata": {},
   "source": [
    "## 1) Develop a python program to read n digit integer number and separate the integer number and display each digit"
   ]
  },
  {
   "cell_type": "code",
   "execution_count": 5,
   "id": "1605af7d",
   "metadata": {},
   "outputs": [
    {
     "name": "stdout",
     "output_type": "stream",
     "text": [
      "enter the number of digit:3\n",
      "enter a3-digit interger:123\n",
      "1\n",
      "2\n",
      "3\n"
     ]
    }
   ],
   "source": [
    "n=int(input(\"enter the number of digit:\"))\n",
    "if n>0:\n",
    "    number=int(input(f\"enter a{n}-digit interger:\"))\n",
    "    if number>=10**(n-1)and number<10**n:\n",
    "        for i in range(n):\n",
    "            digit=number//(10**(n-1))\n",
    "            print(digit)\n",
    "            number%=10**(n-1)\n",
    "            n-=1\n",
    "    else:\n",
    "            print(f\"please enter a{n}-digit integer\")\n",
    "else:\n",
    "    printf(f\"please enter a valid number of digits(grester thsn 0)\")\n",
    "    "
   ]
  },
  {
   "cell_type": "code",
   "execution_count": 12,
   "id": "5061856f",
   "metadata": {},
   "outputs": [
    {
     "name": "stdout",
     "output_type": "stream",
     "text": [
      "enter the number of digit:3\n",
      "enter a3-digit interger:321\n",
      "3\n",
      "2\n",
      "1\n"
     ]
    }
   ],
   "source": [
    "n=int(input(\"enter the number of digit:\"))\n",
    "if n>0:\n",
    "    number=int(input(f\"enter a{n}-digit interger:\"))\n",
    "    if len(str(number))==n:\n",
    "        for i in range(n):\n",
    "            digit=number//(10**(n-1))\n",
    "            print(digit)\n",
    "            number%=10**(n-1)\n",
    "            n-=1\n",
    "    else:\n",
    "            print(f\"please enter a{n}-digit integer\")\n",
    "else:\n",
    "    printf(f\"please enter a valid number of digits(grester thsn 0)\")\n",
    "    "
   ]
  },
  {
   "cell_type": "markdown",
   "id": "cd87d98b",
   "metadata": {},
   "source": [
    "## LAB-2"
   ]
  },
  {
   "cell_type": "markdown",
   "id": "7c92aaa5",
   "metadata": {},
   "source": [
    "## 2) Develop a Python program to accept 4 number and display them in sorted order using a minimum number of if else statements"
   ]
  },
  {
   "cell_type": "code",
   "execution_count": 11,
   "id": "95947f2f",
   "metadata": {},
   "outputs": [
    {
     "name": "stdout",
     "output_type": "stream",
     "text": [
      "enter the first number:5\n",
      "enter the second number:6\n",
      "enter the third number:3\n",
      "enter the fourth number:4\n",
      "The sorted number are: 3 4 5 6\n"
     ]
    }
   ],
   "source": [
    "a=int(input(\"enter the first number:\"))\n",
    "b=int(input(\"enter the second number:\"))\n",
    "c=int(input(\"enter the third number:\"))\n",
    "d=int(input(\"enter the fourth number:\"))\n",
    "if a>b:a,b=b,a\n",
    "if c>d:c,d=b,c\n",
    "if a>c:a,c=c,a\n",
    "if b>d:b,d=d,b\n",
    "if b>c:b,c=c,b\n",
    "print(\"The sorted number are:\",a,b,c,d)"
   ]
  },
  {
   "cell_type": "markdown",
   "id": "201dbb95",
   "metadata": {},
   "source": [
    "## LAB-3"
   ]
  },
  {
   "cell_type": "markdown",
   "id": "4d84e0ce",
   "metadata": {},
   "source": [
    "## 4) Develop  program for checking if a given n digit number is palindrome or not"
   ]
  },
  {
   "cell_type": "code",
   "execution_count": 10,
   "id": "b3b928fb",
   "metadata": {},
   "outputs": [
    {
     "name": "stdout",
     "output_type": "stream",
     "text": [
      "enter an n-digit number:122\n",
      "not a palimdrome\n"
     ]
    }
   ],
   "source": [
    "number=int(input(\"enter an n-digit number:\"))\n",
    "original_number=number\n",
    "reversed_number=0\n",
    "while number>0:\n",
    "    digit=number%10\n",
    "    reversed_number=reversed_number*10+digit\n",
    "    number//=10\n",
    "if original_number==reversed_number:\n",
    "    print(\"palindrome\")\n",
    "else:\n",
    "    print(\"not a palimdrome\")\n",
    "    "
   ]
  },
  {
   "cell_type": "markdown",
   "id": "d2e85af8",
   "metadata": {},
   "source": [
    "## LAB-4"
   ]
  },
  {
   "cell_type": "markdown",
   "id": "91cec7b0",
   "metadata": {},
   "source": [
    "## 5) Develop a python script to display a multiplication table for given integer n"
   ]
  },
  {
   "cell_type": "code",
   "execution_count": 9,
   "id": "85491288",
   "metadata": {},
   "outputs": [
    {
     "name": "stdout",
     "output_type": "stream",
     "text": [
      "enter an integer for the multiplication table:5\n",
      "multiplication table for5:\n",
      "5*1=5\n",
      "5*2=10\n",
      "5*3=15\n",
      "5*4=20\n",
      "5*5=25\n",
      "5*6=30\n",
      "5*7=35\n",
      "5*8=40\n",
      "5*9=45\n",
      "5*10=50\n"
     ]
    }
   ],
   "source": [
    "n=int(input(\"enter an integer for the multiplication table:\"))\n",
    "print(f\"multiplication table for{n}:\")\n",
    "for i in range(1,11):\n",
    "    result=n*i\n",
    "    print(f\"{n}*{i}={result}\")"
   ]
  },
  {
   "cell_type": "markdown",
   "id": "46957419",
   "metadata": {},
   "source": [
    "## Lab-5"
   ]
  },
  {
   "cell_type": "markdown",
   "id": "62e86040",
   "metadata": {},
   "source": [
    "## Develop python scripts to calculate the mean,median,mode,variance and standard diviation of n integer numbers"
   ]
  },
  {
   "cell_type": "code",
   "execution_count": 14,
   "id": "84acda75",
   "metadata": {},
   "outputs": [
    {
     "name": "stdout",
     "output_type": "stream",
     "text": [
      "enter the number of elements:6\n",
      "enter number 1:4\n",
      "enter number 2:8\n",
      "enter number 3:6\n",
      "enter number 4:5\n",
      "enter number 5:3\n",
      "enter number 6:9\n",
      "mean:5.833333333333333\n",
      "median:5.5\n",
      "mode:No Mode\n",
      "sample variance:5.366666666666667\n",
      "population variance:4.472222222222222\n",
      "sample standard deviation:2.316606713852541\n",
      "population standard deviation:2.1147629234082532\n"
     ]
    }
   ],
   "source": [
    "n=int(input(\"enter the number of elements:\"))\n",
    "numbers=[int(input(f\"enter number {i+1}:\"))for i in range (n)]\n",
    "mean=sum(numbers)/n\n",
    "numbers.sort()\n",
    "if n%2==0:\n",
    "    median=(numbers[n//2-1]+numbers[n//2])/2\n",
    "else:\n",
    "    median=numbers[n//2]\n",
    "frequency={num:numbers.count(num)for num in numbers}\n",
    "max_count=max(frequency.values())\n",
    "mode=[k for k,v in frequency.items()if v==max_count]\n",
    "if len(mode)==n:\n",
    "    mode=\"No Mode\"\n",
    "mean_difference_squared_sum=sum((x-mean)**2 for x in numbers)\n",
    "variance_sample=mean_difference_squared_sum/(n-1)if n>1 else 0\n",
    "variance_population=mean_difference_squared_sum/n\n",
    "std_deviation_sample=variance_sample**0.5\n",
    "std_deviation_population=variance_population**0.5\n",
    "print(f\"mean:{mean}\")\n",
    "print(f\"median:{median}\")\n",
    "print(f\"mode:{mode}\")\n",
    "print(f\"sample variance:{variance_sample}\")\n",
    "print(f\"population variance:{variance_population}\")\n",
    "print(f\"sample standard deviation:{std_deviation_sample}\")\n",
    "print(f\"population standard deviation:{std_deviation_population}\")\n",
    "                   "
   ]
  },
  {
   "cell_type": "markdown",
   "id": "ef239016",
   "metadata": {},
   "source": [
    "## LAB-6"
   ]
  },
  {
   "cell_type": "markdown",
   "id": "248262c2",
   "metadata": {},
   "source": [
    "## Develop a python script to rotate right above a given position in that list and display them"
   ]
  },
  {
   "cell_type": "markdown",
   "id": "837eb6c1",
   "metadata": {},
   "source": [
    " "
   ]
  },
  {
   "cell_type": "code",
   "execution_count": 4,
   "id": "a089008a",
   "metadata": {},
   "outputs": [
    {
     "name": "stdout",
     "output_type": "stream",
     "text": [
      "enter the integer number:253\n",
      "the reverse number is:352\n"
     ]
    }
   ],
   "source": [
    "number =int(input(\"enter the integer number:\"))\n",
    "reverse_number=0\n",
    "while(number>0):\n",
    "    remainder=number%10\n",
    "    reverse_number=(reverse_number*10)+remainder\n",
    "    number=number//10\n",
    "print(\"the reverse number is:{}\".format(reverse_number))"
   ]
  },
  {
   "cell_type": "markdown",
   "id": "628b4a58",
   "metadata": {},
   "source": [
    "# LAB 7"
   ]
  },
  {
   "cell_type": "markdown",
   "id": "bcd43a75",
   "metadata": {},
   "source": [
    "## Develop write a python script to interchange the digit"
   ]
  },
  {
   "cell_type": "code",
   "execution_count": 13,
   "id": "9199f140",
   "metadata": {},
   "outputs": [
    {
     "name": "stdout",
     "output_type": "stream",
     "text": [
      "enter the user input:23456\n",
      "enter the 1st position which a want to swap:4\n",
      "enter the 2nd position which a want to swap:5\n",
      "original number: 23456\n",
      "interchanged number: 23465\n"
     ]
    }
   ],
   "source": [
    "def interchanged_digits(number,pos1,pos2):\n",
    "    number_str=str(number)\n",
    "    number_list=list(number_str)\n",
    "    number_list[pos1-1],number_list[pos2-1]=number_list[pos2-1],number_list[pos1-1]\n",
    "    interchanged_number=int(''.join(number_list))\n",
    "    return interchanged_number\n",
    "number=int(input('enter the user input:'))\n",
    "pos1=int(input('enter the 1st position which a want to swap:'))\n",
    "pos2=int(input('enter the 2nd position which a want to swap:'))\n",
    "interchanged_number=interchanged_digits(number,pos1,pos2)\n",
    "print('original number:',number)\n",
    "print('interchanged number:',interchanged_number)"
   ]
  },
  {
   "cell_type": "code",
   "execution_count": null,
   "id": "5e0661e2",
   "metadata": {},
   "outputs": [],
   "source": []
  }
 ],
 "metadata": {
  "kernelspec": {
   "display_name": "Python 3 (ipykernel)",
   "language": "python",
   "name": "python3"
  },
  "language_info": {
   "codemirror_mode": {
    "name": "ipython",
    "version": 3
   },
   "file_extension": ".py",
   "mimetype": "text/x-python",
   "name": "python",
   "nbconvert_exporter": "python",
   "pygments_lexer": "ipython3",
   "version": "3.10.9"
  }
 },
 "nbformat": 4,
 "nbformat_minor": 5
}
